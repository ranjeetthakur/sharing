{
 "cells": [
  {
   "cell_type": "code",
   "execution_count": 36,
   "metadata": {},
   "outputs": [
    {
     "data": {
      "text/plain": [
       "{'1': 'a', '2': 'b', '3': 'd'}"
      ]
     },
     "execution_count": 36,
     "metadata": {},
     "output_type": "execute_result"
    }
   ],
   "source": [
    "import pandas as pd\n",
    "csv_path='/Users/ranjeetsingh/Desktop/res.csv'\n",
    "df = pd.read_csv(csv_path, dtype={\n",
    "    'key': 'string',\n",
    "    'value': 'string'\n",
    "})\n",
    "\n",
    "#create map\n",
    "map_csv = {}\n",
    "for i,row in df.iterrows():\n",
    "\tmap_csv[row['key']]= row['value']\n",
    "map_csv"
   ]
  },
  {
   "cell_type": "code",
   "execution_count": null,
   "metadata": {},
   "outputs": [
    {
     "name": "stdout",
     "output_type": "stream",
     "text": [
      " * Serving Flask app \"__main__\" (lazy loading)\n",
      " * Environment: production\n",
      "\u001b[31m   WARNING: This is a development server. Do not use it in a production deployment.\u001b[0m\n",
      "\u001b[2m   Use a production WSGI server instead.\u001b[0m\n",
      " * Debug mode: off\n"
     ]
    },
    {
     "name": "stderr",
     "output_type": "stream",
     "text": [
      " * Running on http://0.0.0.0:4444/ (Press CTRL+C to quit)\n",
      "127.0.0.1 - - [18/Jan/2024 17:08:56] \"\u001b[37mPOST /del_key HTTP/1.1\u001b[0m\" 200 -\n",
      "127.0.0.1 - - [18/Jan/2024 17:09:06] \"\u001b[37mPOST /add_key HTTP/1.1\u001b[0m\" 200 -\n",
      "127.0.0.1 - - [18/Jan/2024 17:09:10] \"\u001b[37mPOST /add_key HTTP/1.1\u001b[0m\" 200 -\n",
      "127.0.0.1 - - [18/Jan/2024 17:09:20] \"\u001b[37mPOST /update_key HTTP/1.1\u001b[0m\" 200 -\n"
     ]
    }
   ],
   "source": [
    "from flask import Flask, jsonify, request \n",
    "import os\n",
    "  \n",
    "app = Flask(__name__) \n",
    "\n",
    "  \n",
    "@app.route('/add_key', methods=['POST']) \n",
    "def helloworld(): \n",
    "    if(request.method == 'POST'): \n",
    "      new_obj = request.json\n",
    "      #{'key':1, \"value\":\"c\"}\n",
    "        \n",
    "      if new_obj['key'] in map_csv.keys():\n",
    "        return \"key exist, use update method instead\"\n",
    "    \n",
    "      map_csv[new_obj['key']] = new_obj['value']    \n",
    "      #open csv from filesystem\n",
    "    \n",
    "      with open(csv_path,'a')  as fl:\n",
    "        fl.write('\\n'+new_obj['key']+\",\"+new_obj['value'])\n",
    "      \n",
    "      df.loc[len(df.index)] = [new_obj['key'], new_obj['value']]  \n",
    "      return \"operation add done\"\n",
    "\n",
    "@app.route('/update_key', methods=['POST']) \n",
    "def updatekey(): \n",
    "    if(request.method == 'POST'): \n",
    "        new_obj = request.json\n",
    "        #{'key':1, \"value\":\"c\"}\n",
    "        \n",
    "        if new_obj['key'] not in map_csv.keys():\n",
    "            return \"key does not exist, use add method instead\"\n",
    "    \n",
    "        map_csv[new_obj['key']] = new_obj['value']    \n",
    "        target_index = list(df[df.key==new_obj['key']].index)\n",
    "        df.loc[2,'value'] = new_obj['value']\n",
    "        df.to_csv(csv_path,index=False)\n",
    "      \n",
    "    \n",
    "    return \"operation update done\"\n",
    "    \n",
    "@app.route('/del_key', methods=['POST']) \n",
    "def delkey(): \n",
    "    global df, map_csv\n",
    "    if(request.method == 'POST'): \n",
    "        new_obj = request.json\n",
    "        #{'key':1}\n",
    "        if new_obj['key'] in map_csv.keys():\n",
    "            del map_csv[new_obj['key']]\n",
    "\n",
    "        target_index = list(df[df.key==new_obj['key']].index)\n",
    "        df = df.drop(index=target_index)\n",
    "        target_index = target_index[0]+1\n",
    "        \n",
    "        df.to_csv(csv_path,index=False)\n",
    "\n",
    "    return \"operation del done\"\n",
    "  \n",
    "  \n",
    "if __name__ == '__main__': \n",
    "#     debug=False,\n",
    "    app.run(host=os.getenv('IP', '0.0.0.0'), \n",
    "            port=int(os.getenv('PORT', 4444)))"
   ]
  },
  {
   "cell_type": "code",
   "execution_count": null,
   "metadata": {},
   "outputs": [],
   "source": []
  },
  {
   "cell_type": "code",
   "execution_count": null,
   "metadata": {},
   "outputs": [],
   "source": []
  }
 ],
 "metadata": {
  "kernelspec": {
   "display_name": "Python 3",
   "language": "python",
   "name": "python3"
  },
  "language_info": {
   "codemirror_mode": {
    "name": "ipython",
    "version": 3
   },
   "file_extension": ".py",
   "mimetype": "text/x-python",
   "name": "python",
   "nbconvert_exporter": "python",
   "pygments_lexer": "ipython3",
   "version": "3.8.3"
  }
 },
 "nbformat": 4,
 "nbformat_minor": 4
}
